{
  "nbformat": 4,
  "nbformat_minor": 0,
  "metadata": {
    "colab": {
      "provenance": []
    },
    "kernelspec": {
      "name": "python3",
      "display_name": "Python 3"
    },
    "language_info": {
      "name": "python"
    }
  },
  "cells": [
    {
      "cell_type": "markdown",
      "source": [
        "#Imports"
      ],
      "metadata": {
        "id": "-xlb9ajVXxYK"
      }
    },
    {
      "cell_type": "code",
      "source": [
        "import sqlite3\n",
        "import pandas as pd\n",
        "import numpy as np\n",
        "from sklearn.feature_selection import RFE\n",
        "from sklearn.linear_model import LinearRegression\n",
        "from sklearn.model_selection import cross_val_score, cross_validate\n",
        "from sklearn.metrics import accuracy_score, f1_score\n",
        "from sklearn.neighbors import KNeighborsClassifier\n",
        "from sklearn.linear_model import LogisticRegression\n",
        "from sklearn.tree import DecisionTreeClassifier\n",
        "from sklearn.metrics import confusion_matrix\n",
        "from sklearn.ensemble import RandomForestClassifier, GradientBoostingClassifier\n"
      ],
      "metadata": {
        "id": "rP9xDcXFXxI3"
      },
      "execution_count": null,
      "outputs": []
    },
    {
      "cell_type": "markdown",
      "source": [
        "#Data Preperation"
      ],
      "metadata": {
        "id": "9iMe9kRKXK4r"
      }
    },
    {
      "cell_type": "markdown",
      "source": [
        "download data"
      ],
      "metadata": {
        "id": "FG3bvtvxYkk9"
      }
    },
    {
      "cell_type": "code",
      "execution_count": null,
      "metadata": {
        "colab": {
          "base_uri": "https://localhost:8080/"
        },
        "id": "d9pAvK8QPyL8",
        "outputId": "833050c6-e63c-4e68-fb89-5759bd801ce9"
      },
      "outputs": [
        {
          "output_type": "stream",
          "name": "stdout",
          "text": [
            "Traceback (most recent call last):\n",
            "  File \"/usr/local/bin/kaggle\", line 5, in <module>\n",
            "    from kaggle.cli import main\n",
            "  File \"/usr/local/lib/python3.10/dist-packages/kaggle/__init__.py\", line 23, in <module>\n",
            "    api.authenticate()\n",
            "  File \"/usr/local/lib/python3.10/dist-packages/kaggle/api/kaggle_api_extended.py\", line 164, in authenticate\n",
            "    raise IOError('Could not find {}. Make sure it\\'s located in'\n",
            "OSError: Could not find kaggle.json. Make sure it's located in /root/.kaggle. Or use the environment method.\n"
          ]
        }
      ],
      "source": [
        "! kaggle datasets download hugomathien/soccer"
      ]
    },
    {
      "cell_type": "markdown",
      "source": [
        "unzip data"
      ],
      "metadata": {
        "id": "-k4Y2xUHXTMq"
      }
    },
    {
      "cell_type": "code",
      "source": [
        "!unzip soccer.zip -d data"
      ],
      "metadata": {
        "colab": {
          "base_uri": "https://localhost:8080/"
        },
        "id": "tzxnVq11XKhK",
        "outputId": "d5a94bc7-a361-4ed3-d203-d69e7bddf920"
      },
      "execution_count": null,
      "outputs": [
        {
          "output_type": "stream",
          "name": "stdout",
          "text": [
            "Archive:  soccer.zip\n",
            "replace data/database.sqlite? [y]es, [n]o, [A]ll, [N]one, [r]ename: "
          ]
        }
      ]
    },
    {
      "cell_type": "markdown",
      "source": [
        "Read all tables to pandas dataframes"
      ],
      "metadata": {
        "id": "s1RpxJnKX66K"
      }
    },
    {
      "cell_type": "code",
      "source": [
        "cnx = sqlite3.connect('data/database.sqlite')\n",
        "\n",
        "Country = pd.read_sql_query(\"SELECT * FROM Country\", cnx)\n",
        "League = pd.read_sql_query(\"SELECT * FROM League\", cnx)\n",
        "Match = pd.read_sql_query(\"SELECT * FROM Match\", cnx)\n",
        "Player = pd.read_sql_query(\"SELECT * FROM Player\", cnx)\n",
        "Player_Attributes = pd.read_sql_query(\"SELECT * FROM Player_Attributes\", cnx)\n",
        "Team = pd.read_sql_query(\"SELECT * FROM Team\", cnx)\n",
        "Team_Attributes = pd.read_sql_query(\"SELECT * FROM Team_Attributes\", cnx)"
      ],
      "metadata": {
        "id": "L3k6OxsRX7Q3"
      },
      "execution_count": null,
      "outputs": []
    },
    {
      "cell_type": "markdown",
      "source": [
        "Clean match data and prepare it"
      ],
      "metadata": {
        "id": "orlKXeL8e1QY"
      }
    },
    {
      "cell_type": "code",
      "source": [
        "col_list = ['season', 'date', 'home_team_api_id', 'away_team_api_id',\n",
        "            'home_team_goal', 'away_team_goal', 'home_player_1' , 'home_player_2', 'home_player_3', 'home_player_4', 'home_player_5', 'home_player_6', 'home_player_7' ,\n",
        "             'home_player_8' , 'home_player_9', 'home_player_10', 'home_player_11', 'away_player_1', 'away_player_2', 'away_player_3', 'away_player_4',\n",
        "             'away_player_5', 'away_player_6', 'away_player_7', 'away_player_8','away_player_9', 'away_player_10', 'away_player_11']\n",
        "player_col_list = ['player_api_id', 'overall_rating']\n",
        "#68.6 mean\n",
        "matches = Match[col_list]\n",
        "player_ratings = Player_Attributes[player_col_list]\n",
        "for row in range(len(matches)):\n",
        "  for col in range(6,28):\n",
        "    if(matches.iat[row,col] > 0):\n",
        "      if matches.iat[row,col] in player_ratings['player_api_id']:\n",
        "        matches.iat[row,col] = player_ratings['overall_rating'].loc[matches.iat[row,col]]\n",
        "      else:\n",
        "        matches.iat[row,col] = 68.6\n",
        "    else:\n",
        "      matches.iat[row,col] = 68.6\n",
        "\n",
        "print(matches)"
      ],
      "metadata": {
        "colab": {
          "base_uri": "https://localhost:8080/"
        },
        "id": "SQFv5mnJe4th",
        "outputId": "b1d82451-7d14-46f0-c0d7-e63164e17534"
      },
      "execution_count": null,
      "outputs": [
        {
          "output_type": "stream",
          "name": "stdout",
          "text": [
            "          season                 date  home_team_api_id  away_team_api_id  \\\n",
            "0      2008/2009  2008-08-17 00:00:00              9987              9993   \n",
            "1      2008/2009  2008-08-16 00:00:00             10000              9994   \n",
            "2      2008/2009  2008-08-16 00:00:00              9984              8635   \n",
            "3      2008/2009  2008-08-17 00:00:00              9991              9998   \n",
            "4      2008/2009  2008-08-16 00:00:00              7947              9985   \n",
            "...          ...                  ...               ...               ...   \n",
            "25974  2015/2016  2015-09-22 00:00:00             10190             10191   \n",
            "25975  2015/2016  2015-09-23 00:00:00              9824             10199   \n",
            "25976  2015/2016  2015-09-23 00:00:00              9956             10179   \n",
            "25977  2015/2016  2015-09-22 00:00:00              7896             10243   \n",
            "25978  2015/2016  2015-09-23 00:00:00             10192              9931   \n",
            "\n",
            "       home_team_goal  away_team_goal  home_player_1  home_player_2  \\\n",
            "0                   1               1           68.6           68.6   \n",
            "1                   0               0           68.6           68.6   \n",
            "2                   0               3           68.6           68.6   \n",
            "3                   5               0           68.6           68.6   \n",
            "4                   1               3           68.6           68.6   \n",
            "...               ...             ...            ...            ...   \n",
            "25974               1               0           68.0           68.6   \n",
            "25975               1               2           71.0           66.0   \n",
            "25976               2               0           74.0           68.6   \n",
            "25977               0               0           68.6           68.0   \n",
            "25978               4               3           68.6           68.6   \n",
            "\n",
            "       home_player_3  home_player_4  ...  away_player_2  away_player_3  \\\n",
            "0               68.6           68.6  ...           68.6           68.6   \n",
            "1               68.6           68.6  ...           68.6           68.6   \n",
            "2               68.6           68.6  ...           68.6           68.6   \n",
            "3               68.6           68.6  ...           68.6           68.6   \n",
            "4               68.6           68.6  ...           68.6           68.6   \n",
            "...              ...            ...  ...            ...            ...   \n",
            "25974           77.0           68.6  ...           68.6           62.0   \n",
            "25975           70.0           68.6  ...           58.0           65.0   \n",
            "25976           69.0           68.6  ...           66.0           68.6   \n",
            "25977           57.0           68.0  ...           79.0           68.6   \n",
            "25978           67.0           68.0  ...           76.0           68.0   \n",
            "\n",
            "       away_player_4  away_player_5  away_player_6  away_player_7  \\\n",
            "0               68.6           68.6           68.6           68.6   \n",
            "1               68.6           68.6           68.6           68.6   \n",
            "2               68.6           68.6           68.6           68.6   \n",
            "3               68.6           68.6           68.6           68.6   \n",
            "4               68.6           68.6           68.6           68.6   \n",
            "...              ...            ...            ...            ...   \n",
            "25974           71.0           68.0           75.0           68.6   \n",
            "25975           70.0           72.0           68.6           68.6   \n",
            "25976           68.0           73.0           68.6           79.0   \n",
            "25977           68.6           68.6           76.0           65.0   \n",
            "25978           71.0           68.6           68.6           60.0   \n",
            "\n",
            "       away_player_8  away_player_9  away_player_10  away_player_11  \n",
            "0               68.6           68.6            68.6            68.6  \n",
            "1               68.6           68.6            68.6            68.6  \n",
            "2               68.6           68.6            68.6            68.6  \n",
            "3               68.6           68.6            68.6            68.6  \n",
            "4               68.6           68.6            68.6            68.6  \n",
            "...              ...            ...             ...             ...  \n",
            "25974           66.0           60.0            68.6            68.6  \n",
            "25975           68.6           75.0             NaN            86.0  \n",
            "25976           68.6           67.0            68.6            68.6  \n",
            "25977           68.6           82.0            61.0            68.6  \n",
            "25978           61.0           60.0            69.0            68.6  \n",
            "\n",
            "[25979 rows x 28 columns]\n"
          ]
        }
      ]
    },
    {
      "cell_type": "markdown",
      "source": [
        "create team averages"
      ],
      "metadata": {
        "id": "Txz71fj100OD"
      }
    },
    {
      "cell_type": "code",
      "source": [
        "home = ['home_player_1' , 'home_player_2', 'home_player_3', 'home_player_4', 'home_player_5', 'home_player_6', 'home_player_7' ,\n",
        "             'home_player_8' , 'home_player_9', 'home_player_10', 'home_player_11']\n",
        "away = [ 'away_player_1', 'away_player_2', 'away_player_3', 'away_player_4',\n",
        "             'away_player_5', 'away_player_6', 'away_player_7', 'away_player_8','away_player_9', 'away_player_10', 'away_player_11']\n",
        "matches['home_avg'] = matches[home].mean(axis=1)\n",
        "matches['away_avg'] = matches[away].mean(axis=1)\n",
        "for k in home:\n",
        "  matches = matches.drop(k, axis=1)\n",
        "for k in away:\n",
        "  matches = matches.drop(k, axis=1)\n",
        "print(matches)"
      ],
      "metadata": {
        "colab": {
          "base_uri": "https://localhost:8080/"
        },
        "id": "WVLAFK9g03tx",
        "outputId": "8a419005-c47f-4c0b-deb3-286e174395d5"
      },
      "execution_count": null,
      "outputs": [
        {
          "output_type": "stream",
          "name": "stdout",
          "text": [
            "          season                 date  home_team_api_id  away_team_api_id  \\\n",
            "0      2008/2009  2008-08-17 00:00:00              9987              9993   \n",
            "1      2008/2009  2008-08-16 00:00:00             10000              9994   \n",
            "2      2008/2009  2008-08-16 00:00:00              9984              8635   \n",
            "3      2008/2009  2008-08-17 00:00:00              9991              9998   \n",
            "4      2008/2009  2008-08-16 00:00:00              7947              9985   \n",
            "...          ...                  ...               ...               ...   \n",
            "25974  2015/2016  2015-09-22 00:00:00             10190             10191   \n",
            "25975  2015/2016  2015-09-23 00:00:00              9824             10199   \n",
            "25976  2015/2016  2015-09-23 00:00:00              9956             10179   \n",
            "25977  2015/2016  2015-09-22 00:00:00              7896             10243   \n",
            "25978  2015/2016  2015-09-23 00:00:00             10192              9931   \n",
            "\n",
            "       home_team_goal  away_team_goal   home_avg   away_avg  \n",
            "0                   1               1  68.600000  68.600000  \n",
            "1                   0               0  68.600000  68.600000  \n",
            "2                   0               3  68.600000  68.600000  \n",
            "3                   5               0  68.600000  68.600000  \n",
            "4                   1               3  68.600000  68.600000  \n",
            "...               ...             ...        ...        ...  \n",
            "25974               1               0  65.672727  67.727273  \n",
            "25975               1               2  66.981818  69.880000  \n",
            "25976               2               0  68.490909  69.727273  \n",
            "25977               0               0  67.454545  70.418182  \n",
            "25978               4               3  67.454545  66.436364  \n",
            "\n",
            "[25979 rows x 8 columns]\n"
          ]
        },
        {
          "output_type": "stream",
          "name": "stderr",
          "text": [
            "<ipython-input-7-ee8aa0f7a4fa>:5: SettingWithCopyWarning: \n",
            "A value is trying to be set on a copy of a slice from a DataFrame.\n",
            "Try using .loc[row_indexer,col_indexer] = value instead\n",
            "\n",
            "See the caveats in the documentation: https://pandas.pydata.org/pandas-docs/stable/user_guide/indexing.html#returning-a-view-versus-a-copy\n",
            "  matches['home_avg'] = matches[home].mean(axis=1)\n",
            "<ipython-input-7-ee8aa0f7a4fa>:6: SettingWithCopyWarning: \n",
            "A value is trying to be set on a copy of a slice from a DataFrame.\n",
            "Try using .loc[row_indexer,col_indexer] = value instead\n",
            "\n",
            "See the caveats in the documentation: https://pandas.pydata.org/pandas-docs/stable/user_guide/indexing.html#returning-a-view-versus-a-copy\n",
            "  matches['away_avg'] = matches[away].mean(axis=1)\n"
          ]
        }
      ]
    },
    {
      "cell_type": "markdown",
      "source": [
        "Add team attributes to matches df"
      ],
      "metadata": {
        "id": "jXT1gtE1-wWq"
      }
    },
    {
      "cell_type": "code",
      "source": [
        "cols = ['team_api_id', 'date', 'buildUpPlaySpeed',\n",
        "       'buildUpPlayDribblingClass', 'buildUpPlayPassing',\n",
        "       'chanceCreationPassing',\n",
        "       'chanceCreationCrossing',\n",
        "       'chanceCreationShooting',\n",
        "       'defencePressure',\n",
        "       'defenceAggression',\n",
        "       'defenceTeamWidth']\n",
        "\n",
        "team_att = Team_Attributes[cols]\n",
        "matches[['h_buildUpPlaySpeed',\n",
        "       'h_buildUpPlayDribblingClass', 'h_buildUpPlayPassing',\n",
        "       'h_chanceCreationPassing',\n",
        "       'h_chanceCreationCrossing',\n",
        "       'h_chanceCreationShooting',\n",
        "       'h_defencePressure',\n",
        "       'h_defenceAggression',\n",
        "       'h_defenceTeamWidth','a_buildUpPlaySpeed',\n",
        "       'a_buildUpPlayDribblingClass', 'a_buildUpPlayPassing',\n",
        "       'a_chanceCreationPassing',\n",
        "       'a_chanceCreationCrossing',\n",
        "       'a_chanceCreationShooting',\n",
        "       'a_defencePressure',\n",
        "       'a_defenceAggression',\n",
        "       'a_defenceTeamWidth']] = pd.DataFrame([[np.nan, np.nan,np.nan,np.nan,np.nan,np.nan,np.nan,np.nan,np.nan,np.nan, np.nan,np.nan,np.nan,np.nan,np.nan,np.nan,np.nan,np.nan]], index=matches.index)\n",
        "\n",
        "h = 8\n",
        "a = 17\n",
        "t = 2\n",
        "for row in range(len(matches)):\n",
        "    #if matches.iat[row,1] in team_att['date'] and matches.iat[row,2] in team_att['team_api_id']:\n",
        "    home = team_att.loc[((team_att['team_api_id'] == matches.iat[row,2]) & (team_att['date'] <= (matches.iat[row,1])))]\n",
        "    away = team_att.loc[((team_att['team_api_id'] == matches.iat[row,3]) & (team_att['date'] <= (matches.iat[row,1])))]\n",
        "    for i in range(9):\n",
        "      if 2 > len(home) > 0:\n",
        "        matches.iat[row, h+i] = home.iat[0,t+i]\n",
        "      elif len(home) > 2:\n",
        "        matches.iat[row, h+i] = home.iat[len(home)-1,t+i]\n",
        "      if 2 > len(away) > 0:\n",
        "        matches.iat[row, a+i] = away.iat[0,t+i]\n",
        "      elif len(away) > 2:\n",
        "        matches.iat[row, a+i] = away.iat[len(away)-1,t+i]\n",
        "\n",
        "    \n",
        "print(matches)"
      ],
      "metadata": {
        "colab": {
          "base_uri": "https://localhost:8080/"
        },
        "id": "myX3L-PG-1tb",
        "outputId": "82996be6-679e-4ca1-ad60-16e377d5c64c"
      },
      "execution_count": null,
      "outputs": [
        {
          "output_type": "stream",
          "name": "stdout",
          "text": [
            "          season                 date  home_team_api_id  away_team_api_id  \\\n",
            "0      2008/2009  2008-08-17 00:00:00              9987              9993   \n",
            "1      2008/2009  2008-08-16 00:00:00             10000              9994   \n",
            "2      2008/2009  2008-08-16 00:00:00              9984              8635   \n",
            "3      2008/2009  2008-08-17 00:00:00              9991              9998   \n",
            "4      2008/2009  2008-08-16 00:00:00              7947              9985   \n",
            "...          ...                  ...               ...               ...   \n",
            "25974  2015/2016  2015-09-22 00:00:00             10190             10191   \n",
            "25975  2015/2016  2015-09-23 00:00:00              9824             10199   \n",
            "25976  2015/2016  2015-09-23 00:00:00              9956             10179   \n",
            "25977  2015/2016  2015-09-22 00:00:00              7896             10243   \n",
            "25978  2015/2016  2015-09-23 00:00:00             10192              9931   \n",
            "\n",
            "       home_team_goal  away_team_goal   home_avg   away_avg  \\\n",
            "0                   1               1  68.600000  68.600000   \n",
            "1                   0               0  68.600000  68.600000   \n",
            "2                   0               3  68.600000  68.600000   \n",
            "3                   5               0  68.600000  68.600000   \n",
            "4                   1               3  68.600000  68.600000   \n",
            "...               ...             ...        ...        ...   \n",
            "25974               1               0  65.672727  67.727273   \n",
            "25975               1               2  66.981818  69.880000   \n",
            "25976               2               0  68.490909  69.727273   \n",
            "25977               0               0  67.454545  70.418182   \n",
            "25978               4               3  67.454545  66.436364   \n",
            "\n",
            "       h_buildUpPlaySpeed h_buildUpPlayDribblingClass  ...  \\\n",
            "0                     NaN                         NaN  ...   \n",
            "1                     NaN                         NaN  ...   \n",
            "2                     NaN                         NaN  ...   \n",
            "3                     NaN                         NaN  ...   \n",
            "4                     NaN                         NaN  ...   \n",
            "...                   ...                         ...  ...   \n",
            "25974                52.0                      Normal  ...   \n",
            "25975                53.0                      Little  ...   \n",
            "25976                50.0                      Normal  ...   \n",
            "25977                 NaN                         NaN  ...   \n",
            "25978                52.0                      Normal  ...   \n",
            "\n",
            "       h_defenceTeamWidth  a_buildUpPlaySpeed  a_buildUpPlayDribblingClass  \\\n",
            "0                     NaN                 NaN                          NaN   \n",
            "1                     NaN                 NaN                          NaN   \n",
            "2                     NaN                 NaN                          NaN   \n",
            "3                     NaN                 NaN                          NaN   \n",
            "4                     NaN                 NaN                          NaN   \n",
            "...                   ...                 ...                          ...   \n",
            "25974                52.0                58.0                       Normal   \n",
            "25975                58.0                63.0                       Normal   \n",
            "25976                47.0                61.0                       Normal   \n",
            "25977                 NaN                62.0                       Normal   \n",
            "25978                50.0                61.0                       Normal   \n",
            "\n",
            "       a_buildUpPlayPassing  a_chanceCreationPassing  \\\n",
            "0                       NaN                      NaN   \n",
            "1                       NaN                      NaN   \n",
            "2                       NaN                      NaN   \n",
            "3                       NaN                      NaN   \n",
            "4                       NaN                      NaN   \n",
            "...                     ...                      ...   \n",
            "25974                  35.0                     64.0   \n",
            "25975                  51.0                     54.0   \n",
            "25976                  37.0                     62.0   \n",
            "25977                  46.0                     47.0   \n",
            "25978                  46.0                     66.0   \n",
            "\n",
            "       a_chanceCreationCrossing  a_chanceCreationShooting  a_defencePressure  \\\n",
            "0                           NaN                       NaN                NaN   \n",
            "1                           NaN                       NaN                NaN   \n",
            "2                           NaN                       NaN                NaN   \n",
            "3                           NaN                       NaN                NaN   \n",
            "4                           NaN                       NaN                NaN   \n",
            "...                         ...                       ...                ...   \n",
            "25974                      36.0                      66.0               47.0   \n",
            "25975                      40.0                      66.0               48.0   \n",
            "25976                      50.0                      53.0               45.0   \n",
            "25977                      50.0                      54.0               47.0   \n",
            "25978                      66.0                      54.0               47.0   \n",
            "\n",
            "      a_defenceAggression  a_defenceTeamWidth  \n",
            "0                     NaN                 NaN  \n",
            "1                     NaN                 NaN  \n",
            "2                     NaN                 NaN  \n",
            "3                     NaN                 NaN  \n",
            "4                     NaN                 NaN  \n",
            "...                   ...                 ...  \n",
            "25974                45.0                53.0  \n",
            "25975                53.0                50.0  \n",
            "25976                47.0                54.0  \n",
            "25977                43.0                56.0  \n",
            "25978                58.0                53.0  \n",
            "\n",
            "[25979 rows x 26 columns]\n"
          ]
        }
      ]
    },
    {
      "cell_type": "markdown",
      "source": [
        "fill na values"
      ],
      "metadata": {
        "id": "m3Y97Q3mPyYy"
      }
    },
    {
      "cell_type": "code",
      "source": [
        "numeric = ['h_buildUpPlaySpeed',\n",
        "        'h_buildUpPlayPassing',\n",
        "       'h_chanceCreationPassing',\n",
        "       'h_chanceCreationCrossing',\n",
        "       'h_chanceCreationShooting',\n",
        "       'h_defencePressure',\n",
        "       'h_defenceAggression',\n",
        "       'h_defenceTeamWidth','a_buildUpPlaySpeed',\n",
        "       'a_buildUpPlayPassing',\n",
        "       'a_chanceCreationPassing',\n",
        "       'a_chanceCreationCrossing',\n",
        "       'a_chanceCreationShooting',\n",
        "       'a_defencePressure',\n",
        "       'a_defenceAggression',\n",
        "       'a_defenceTeamWidth']\n",
        "\n",
        "catagoric = [\n",
        "       'h_buildUpPlayDribblingClass',\n",
        "       'a_buildUpPlayDribblingClass']\n",
        "\n",
        "matches[numeric] = matches[numeric].fillna(matches[numeric].mean())\n",
        "matches[catagoric] = matches[catagoric].fillna(matches[catagoric].mode().iloc[0])\n",
        "\n",
        "print(matches)"
      ],
      "metadata": {
        "colab": {
          "base_uri": "https://localhost:8080/"
        },
        "id": "SJw2Te6QQgqq",
        "outputId": "5f5b3cd3-5ccb-469f-efe6-dbec2a18182f"
      },
      "execution_count": null,
      "outputs": [
        {
          "output_type": "stream",
          "name": "stdout",
          "text": [
            "          season                 date  home_team_api_id  away_team_api_id  \\\n",
            "0      2008/2009  2008-08-17 00:00:00              9987              9993   \n",
            "1      2008/2009  2008-08-16 00:00:00             10000              9994   \n",
            "2      2008/2009  2008-08-16 00:00:00              9984              8635   \n",
            "3      2008/2009  2008-08-17 00:00:00              9991              9998   \n",
            "4      2008/2009  2008-08-16 00:00:00              7947              9985   \n",
            "...          ...                  ...               ...               ...   \n",
            "25974  2015/2016  2015-09-22 00:00:00             10190             10191   \n",
            "25975  2015/2016  2015-09-23 00:00:00              9824             10199   \n",
            "25976  2015/2016  2015-09-23 00:00:00              9956             10179   \n",
            "25977  2015/2016  2015-09-22 00:00:00              7896             10243   \n",
            "25978  2015/2016  2015-09-23 00:00:00             10192              9931   \n",
            "\n",
            "       home_team_goal  away_team_goal   home_avg   away_avg  \\\n",
            "0                   1               1  68.600000  68.600000   \n",
            "1                   0               0  68.600000  68.600000   \n",
            "2                   0               3  68.600000  68.600000   \n",
            "3                   5               0  68.600000  68.600000   \n",
            "4                   1               3  68.600000  68.600000   \n",
            "...               ...             ...        ...        ...   \n",
            "25974               1               0  65.672727  67.727273   \n",
            "25975               1               2  66.981818  69.880000   \n",
            "25976               2               0  68.490909  69.727273   \n",
            "25977               0               0  67.454545  70.418182   \n",
            "25978               4               3  67.454545  66.436364   \n",
            "\n",
            "       h_buildUpPlaySpeed h_buildUpPlayDribblingClass  ...  \\\n",
            "0               51.957332                      Little  ...   \n",
            "1               51.957332                      Little  ...   \n",
            "2               51.957332                      Little  ...   \n",
            "3               51.957332                      Little  ...   \n",
            "4               51.957332                      Little  ...   \n",
            "...                   ...                         ...  ...   \n",
            "25974           52.000000                      Normal  ...   \n",
            "25975           53.000000                      Little  ...   \n",
            "25976           50.000000                      Normal  ...   \n",
            "25977           51.957332                      Little  ...   \n",
            "25978           52.000000                      Normal  ...   \n",
            "\n",
            "       h_defenceTeamWidth  a_buildUpPlaySpeed  a_buildUpPlayDribblingClass  \\\n",
            "0               52.155084           51.969357                       Little   \n",
            "1               52.155084           51.969357                       Little   \n",
            "2               52.155084           51.969357                       Little   \n",
            "3               52.155084           51.969357                       Little   \n",
            "4               52.155084           51.969357                       Little   \n",
            "...                   ...                 ...                          ...   \n",
            "25974           52.000000           58.000000                       Normal   \n",
            "25975           58.000000           63.000000                       Normal   \n",
            "25976           47.000000           61.000000                       Normal   \n",
            "25977           52.155084           62.000000                       Normal   \n",
            "25978           50.000000           61.000000                       Normal   \n",
            "\n",
            "       a_buildUpPlayPassing  a_chanceCreationPassing  \\\n",
            "0                  47.97283                52.352273   \n",
            "1                  47.97283                52.352273   \n",
            "2                  47.97283                52.352273   \n",
            "3                  47.97283                52.352273   \n",
            "4                  47.97283                52.352273   \n",
            "...                     ...                      ...   \n",
            "25974              35.00000                64.000000   \n",
            "25975              51.00000                54.000000   \n",
            "25976              37.00000                62.000000   \n",
            "25977              46.00000                47.000000   \n",
            "25978              46.00000                66.000000   \n",
            "\n",
            "       a_chanceCreationCrossing  a_chanceCreationShooting  a_defencePressure  \\\n",
            "0                     53.986291                 54.033683          46.519323   \n",
            "1                     53.986291                 54.033683          46.519323   \n",
            "2                     53.986291                 54.033683          46.519323   \n",
            "3                     53.986291                 54.033683          46.519323   \n",
            "4                     53.986291                 54.033683          46.519323   \n",
            "...                         ...                       ...                ...   \n",
            "25974                 36.000000                 66.000000          47.000000   \n",
            "25975                 40.000000                 66.000000          48.000000   \n",
            "25976                 50.000000                 53.000000          45.000000   \n",
            "25977                 50.000000                 54.000000          47.000000   \n",
            "25978                 66.000000                 54.000000          47.000000   \n",
            "\n",
            "      a_defenceAggression  a_defenceTeamWidth  \n",
            "0                49.37355           52.141617  \n",
            "1                49.37355           52.141617  \n",
            "2                49.37355           52.141617  \n",
            "3                49.37355           52.141617  \n",
            "4                49.37355           52.141617  \n",
            "...                   ...                 ...  \n",
            "25974            45.00000           53.000000  \n",
            "25975            53.00000           50.000000  \n",
            "25976            47.00000           54.000000  \n",
            "25977            43.00000           56.000000  \n",
            "25978            58.00000           53.000000  \n",
            "\n",
            "[25979 rows x 26 columns]\n"
          ]
        }
      ]
    },
    {
      "cell_type": "markdown",
      "source": [
        "factorize catagorical values"
      ],
      "metadata": {
        "id": "yO2Y3FYgSLmJ"
      }
    },
    {
      "cell_type": "code",
      "source": [
        "matches['h_buildUpPlayDribblingClass'] = pd.factorize(matches['h_buildUpPlayDribblingClass'])[0]+1\n",
        "matches['a_buildUpPlayDribblingClass'] = pd.factorize(matches['a_buildUpPlayDribblingClass'])[0]+1\n"
      ],
      "metadata": {
        "colab": {
          "base_uri": "https://localhost:8080/"
        },
        "id": "3cDQ-HQ2SNy4",
        "outputId": "43aa0da4-d128-43af-c0bb-db93710d112f"
      },
      "execution_count": null,
      "outputs": [
        {
          "output_type": "stream",
          "name": "stdout",
          "text": [
            "          season  home_team_api_id  away_team_api_id   home_avg   away_avg  \\\n",
            "0      2008/2009              9987              9993  68.600000  68.600000   \n",
            "1      2008/2009             10000              9994  68.600000  68.600000   \n",
            "2      2008/2009              9984              8635  68.600000  68.600000   \n",
            "3      2008/2009              9991              9998  68.600000  68.600000   \n",
            "4      2008/2009              7947              9985  68.600000  68.600000   \n",
            "...          ...               ...               ...        ...        ...   \n",
            "25974  2015/2016             10190             10191  65.672727  67.727273   \n",
            "25975  2015/2016              9824             10199  66.981818  69.880000   \n",
            "25976  2015/2016              9956             10179  68.490909  69.727273   \n",
            "25977  2015/2016              7896             10243  67.454545  70.418182   \n",
            "25978  2015/2016             10192              9931  67.454545  66.436364   \n",
            "\n",
            "       h_buildUpPlaySpeed  h_buildUpPlayDribblingClass  h_buildUpPlayPassing  \\\n",
            "0               51.957332                            1             47.935656   \n",
            "1               51.957332                            1             47.935656   \n",
            "2               51.957332                            1             47.935656   \n",
            "3               51.957332                            1             47.935656   \n",
            "4               51.957332                            1             47.935656   \n",
            "...                   ...                          ...                   ...   \n",
            "25974           52.000000                            2             48.000000   \n",
            "25975           53.000000                            1             56.000000   \n",
            "25976           50.000000                            2             54.000000   \n",
            "25977           51.957332                            1             47.935656   \n",
            "25978           52.000000                            2             64.000000   \n",
            "\n",
            "       h_chanceCreationPassing  h_chanceCreationCrossing  ...  \\\n",
            "0                    52.336749                  53.99528  ...   \n",
            "1                    52.336749                  53.99528  ...   \n",
            "2                    52.336749                  53.99528  ...   \n",
            "3                    52.336749                  53.99528  ...   \n",
            "4                    52.336749                  53.99528  ...   \n",
            "...                        ...                       ...  ...   \n",
            "25974                39.000000                  39.00000  ...   \n",
            "25975                38.000000                  53.00000  ...   \n",
            "25976                52.000000                  54.00000  ...   \n",
            "25977                52.336749                  53.99528  ...   \n",
            "25978                39.000000                  66.00000  ...   \n",
            "\n",
            "       a_buildUpPlaySpeed  a_buildUpPlayDribblingClass  a_buildUpPlayPassing  \\\n",
            "0               51.969357                            1              47.97283   \n",
            "1               51.969357                            1              47.97283   \n",
            "2               51.969357                            1              47.97283   \n",
            "3               51.969357                            1              47.97283   \n",
            "4               51.969357                            1              47.97283   \n",
            "...                   ...                          ...                   ...   \n",
            "25974           58.000000                            2              35.00000   \n",
            "25975           63.000000                            2              51.00000   \n",
            "25976           61.000000                            2              37.00000   \n",
            "25977           62.000000                            2              46.00000   \n",
            "25978           61.000000                            2              46.00000   \n",
            "\n",
            "       a_chanceCreationPassing  a_chanceCreationCrossing  \\\n",
            "0                    52.352273                 53.986291   \n",
            "1                    52.352273                 53.986291   \n",
            "2                    52.352273                 53.986291   \n",
            "3                    52.352273                 53.986291   \n",
            "4                    52.352273                 53.986291   \n",
            "...                        ...                       ...   \n",
            "25974                64.000000                 36.000000   \n",
            "25975                54.000000                 40.000000   \n",
            "25976                62.000000                 50.000000   \n",
            "25977                47.000000                 50.000000   \n",
            "25978                66.000000                 66.000000   \n",
            "\n",
            "       a_chanceCreationShooting  a_defencePressure  a_defenceAggression  \\\n",
            "0                     54.033683          46.519323             49.37355   \n",
            "1                     54.033683          46.519323             49.37355   \n",
            "2                     54.033683          46.519323             49.37355   \n",
            "3                     54.033683          46.519323             49.37355   \n",
            "4                     54.033683          46.519323             49.37355   \n",
            "...                         ...                ...                  ...   \n",
            "25974                 66.000000          47.000000             45.00000   \n",
            "25975                 66.000000          48.000000             53.00000   \n",
            "25976                 53.000000          45.000000             47.00000   \n",
            "25977                 54.000000          47.000000             43.00000   \n",
            "25978                 54.000000          47.000000             58.00000   \n",
            "\n",
            "       a_defenceTeamWidth  outcome  \n",
            "0               52.141617        0  \n",
            "1               52.141617        0  \n",
            "2               52.141617       -1  \n",
            "3               52.141617        1  \n",
            "4               52.141617       -1  \n",
            "...                   ...      ...  \n",
            "25974           53.000000        1  \n",
            "25975           50.000000       -1  \n",
            "25976           54.000000        1  \n",
            "25977           56.000000        0  \n",
            "25978           53.000000        1  \n",
            "\n",
            "[25979 rows x 24 columns]\n",
            "       home_team_api_id_test  away_team_api_id_test\n",
            "0                          0                     13\n",
            "1                          1                     11\n",
            "2                          2                     14\n",
            "3                          3                     15\n",
            "4                          4                     10\n",
            "...                      ...                    ...\n",
            "25974                    294                    295\n",
            "25975                    292                    287\n",
            "25976                    284                    291\n",
            "25977                    298                    293\n",
            "25978                    285                    290\n",
            "\n",
            "[25979 rows x 2 columns]\n"
          ]
        }
      ]
    },
    {
      "cell_type": "markdown",
      "source": [
        "Add match outcome 1=home win, 0=draw, -1=away win"
      ],
      "metadata": {
        "id": "ZTz-bde8TG16"
      }
    },
    {
      "cell_type": "code",
      "source": [
        "matches['outcome'] = 0\n",
        "matches.loc[matches['home_team_goal'] > matches['away_team_goal'], 'outcome'] = 1\n",
        "matches.loc[matches['home_team_goal'] < matches['away_team_goal'], 'outcome'] = -1\n",
        "print(matches)"
      ],
      "metadata": {
        "colab": {
          "base_uri": "https://localhost:8080/"
        },
        "id": "LB1BZ0ZrTPVx",
        "outputId": "4565c96e-4a86-4645-d0c6-789f767c0d00"
      },
      "execution_count": null,
      "outputs": [
        {
          "output_type": "stream",
          "name": "stdout",
          "text": [
            "          season                 date  home_team_api_id  away_team_api_id  \\\n",
            "0      2008/2009  2008-08-17 00:00:00              9987              9993   \n",
            "1      2008/2009  2008-08-16 00:00:00             10000              9994   \n",
            "2      2008/2009  2008-08-16 00:00:00              9984              8635   \n",
            "3      2008/2009  2008-08-17 00:00:00              9991              9998   \n",
            "4      2008/2009  2008-08-16 00:00:00              7947              9985   \n",
            "...          ...                  ...               ...               ...   \n",
            "25974  2015/2016  2015-09-22 00:00:00             10190             10191   \n",
            "25975  2015/2016  2015-09-23 00:00:00              9824             10199   \n",
            "25976  2015/2016  2015-09-23 00:00:00              9956             10179   \n",
            "25977  2015/2016  2015-09-22 00:00:00              7896             10243   \n",
            "25978  2015/2016  2015-09-23 00:00:00             10192              9931   \n",
            "\n",
            "       home_team_goal  away_team_goal   home_avg   away_avg  \\\n",
            "0                   1               1  68.600000  68.600000   \n",
            "1                   0               0  68.600000  68.600000   \n",
            "2                   0               3  68.600000  68.600000   \n",
            "3                   5               0  68.600000  68.600000   \n",
            "4                   1               3  68.600000  68.600000   \n",
            "...               ...             ...        ...        ...   \n",
            "25974               1               0  65.672727  67.727273   \n",
            "25975               1               2  66.981818  69.880000   \n",
            "25976               2               0  68.490909  69.727273   \n",
            "25977               0               0  67.454545  70.418182   \n",
            "25978               4               3  67.454545  66.436364   \n",
            "\n",
            "       h_buildUpPlaySpeed  h_buildUpPlayDribblingClass  ...  \\\n",
            "0               51.957332                            1  ...   \n",
            "1               51.957332                            1  ...   \n",
            "2               51.957332                            1  ...   \n",
            "3               51.957332                            1  ...   \n",
            "4               51.957332                            1  ...   \n",
            "...                   ...                          ...  ...   \n",
            "25974           52.000000                            2  ...   \n",
            "25975           53.000000                            1  ...   \n",
            "25976           50.000000                            2  ...   \n",
            "25977           51.957332                            1  ...   \n",
            "25978           52.000000                            2  ...   \n",
            "\n",
            "       a_buildUpPlaySpeed  a_buildUpPlayDribblingClass  a_buildUpPlayPassing  \\\n",
            "0               51.969357                            1              47.97283   \n",
            "1               51.969357                            1              47.97283   \n",
            "2               51.969357                            1              47.97283   \n",
            "3               51.969357                            1              47.97283   \n",
            "4               51.969357                            1              47.97283   \n",
            "...                   ...                          ...                   ...   \n",
            "25974           58.000000                            2              35.00000   \n",
            "25975           63.000000                            2              51.00000   \n",
            "25976           61.000000                            2              37.00000   \n",
            "25977           62.000000                            2              46.00000   \n",
            "25978           61.000000                            2              46.00000   \n",
            "\n",
            "       a_chanceCreationPassing  a_chanceCreationCrossing  \\\n",
            "0                    52.352273                 53.986291   \n",
            "1                    52.352273                 53.986291   \n",
            "2                    52.352273                 53.986291   \n",
            "3                    52.352273                 53.986291   \n",
            "4                    52.352273                 53.986291   \n",
            "...                        ...                       ...   \n",
            "25974                64.000000                 36.000000   \n",
            "25975                54.000000                 40.000000   \n",
            "25976                62.000000                 50.000000   \n",
            "25977                47.000000                 50.000000   \n",
            "25978                66.000000                 66.000000   \n",
            "\n",
            "       a_chanceCreationShooting  a_defencePressure  a_defenceAggression  \\\n",
            "0                     54.033683          46.519323             49.37355   \n",
            "1                     54.033683          46.519323             49.37355   \n",
            "2                     54.033683          46.519323             49.37355   \n",
            "3                     54.033683          46.519323             49.37355   \n",
            "4                     54.033683          46.519323             49.37355   \n",
            "...                         ...                ...                  ...   \n",
            "25974                 66.000000          47.000000             45.00000   \n",
            "25975                 66.000000          48.000000             53.00000   \n",
            "25976                 53.000000          45.000000             47.00000   \n",
            "25977                 54.000000          47.000000             43.00000   \n",
            "25978                 54.000000          47.000000             58.00000   \n",
            "\n",
            "       a_defenceTeamWidth  outcome  \n",
            "0               52.141617        0  \n",
            "1               52.141617        0  \n",
            "2               52.141617       -1  \n",
            "3               52.141617        1  \n",
            "4               52.141617       -1  \n",
            "...                   ...      ...  \n",
            "25974           53.000000        1  \n",
            "25975           50.000000       -1  \n",
            "25976           54.000000        1  \n",
            "25977           56.000000        0  \n",
            "25978           53.000000        1  \n",
            "\n",
            "[25979 rows x 27 columns]\n"
          ]
        }
      ]
    },
    {
      "cell_type": "markdown",
      "source": [
        "remove redundent columns: dates, goals, id"
      ],
      "metadata": {
        "id": "QcONKslaXHXX"
      }
    },
    {
      "cell_type": "code",
      "source": [
        "matches = matches.drop('date', axis=1)\n",
        "matches = matches.drop('home_team_goal', axis=1)\n",
        "matches = matches.drop('away_team_goal', axis=1)\n",
        "matches = matches.drop('home_team_api_id', axis=1)\n",
        "matches = matches.drop('away_team_api_id', axis=1)\n",
        "\n",
        "print(matches)"
      ],
      "metadata": {
        "colab": {
          "base_uri": "https://localhost:8080/"
        },
        "id": "ExtZ_BJzdWN1",
        "outputId": "a2e4d563-3956-43c1-efec-7bba1e533ddf"
      },
      "execution_count": null,
      "outputs": [
        {
          "output_type": "stream",
          "name": "stdout",
          "text": [
            "          season  home_team_api_id  away_team_api_id   home_avg   away_avg  \\\n",
            "0      2008/2009              9987              9993  68.600000  68.600000   \n",
            "1      2008/2009             10000              9994  68.600000  68.600000   \n",
            "2      2008/2009              9984              8635  68.600000  68.600000   \n",
            "3      2008/2009              9991              9998  68.600000  68.600000   \n",
            "4      2008/2009              7947              9985  68.600000  68.600000   \n",
            "...          ...               ...               ...        ...        ...   \n",
            "25974  2015/2016             10190             10191  65.672727  67.727273   \n",
            "25975  2015/2016              9824             10199  66.981818  69.880000   \n",
            "25976  2015/2016              9956             10179  68.490909  69.727273   \n",
            "25977  2015/2016              7896             10243  67.454545  70.418182   \n",
            "25978  2015/2016             10192              9931  67.454545  66.436364   \n",
            "\n",
            "       h_buildUpPlaySpeed  h_buildUpPlayDribblingClass  h_buildUpPlayPassing  \\\n",
            "0               51.957332                            1             47.935656   \n",
            "1               51.957332                            1             47.935656   \n",
            "2               51.957332                            1             47.935656   \n",
            "3               51.957332                            1             47.935656   \n",
            "4               51.957332                            1             47.935656   \n",
            "...                   ...                          ...                   ...   \n",
            "25974           52.000000                            2             48.000000   \n",
            "25975           53.000000                            1             56.000000   \n",
            "25976           50.000000                            2             54.000000   \n",
            "25977           51.957332                            1             47.935656   \n",
            "25978           52.000000                            2             64.000000   \n",
            "\n",
            "       h_chanceCreationPassing  h_chanceCreationCrossing  ...  \\\n",
            "0                    52.336749                  53.99528  ...   \n",
            "1                    52.336749                  53.99528  ...   \n",
            "2                    52.336749                  53.99528  ...   \n",
            "3                    52.336749                  53.99528  ...   \n",
            "4                    52.336749                  53.99528  ...   \n",
            "...                        ...                       ...  ...   \n",
            "25974                39.000000                  39.00000  ...   \n",
            "25975                38.000000                  53.00000  ...   \n",
            "25976                52.000000                  54.00000  ...   \n",
            "25977                52.336749                  53.99528  ...   \n",
            "25978                39.000000                  66.00000  ...   \n",
            "\n",
            "       a_buildUpPlaySpeed  a_buildUpPlayDribblingClass  a_buildUpPlayPassing  \\\n",
            "0               51.969357                            1              47.97283   \n",
            "1               51.969357                            1              47.97283   \n",
            "2               51.969357                            1              47.97283   \n",
            "3               51.969357                            1              47.97283   \n",
            "4               51.969357                            1              47.97283   \n",
            "...                   ...                          ...                   ...   \n",
            "25974           58.000000                            2              35.00000   \n",
            "25975           63.000000                            2              51.00000   \n",
            "25976           61.000000                            2              37.00000   \n",
            "25977           62.000000                            2              46.00000   \n",
            "25978           61.000000                            2              46.00000   \n",
            "\n",
            "       a_chanceCreationPassing  a_chanceCreationCrossing  \\\n",
            "0                    52.352273                 53.986291   \n",
            "1                    52.352273                 53.986291   \n",
            "2                    52.352273                 53.986291   \n",
            "3                    52.352273                 53.986291   \n",
            "4                    52.352273                 53.986291   \n",
            "...                        ...                       ...   \n",
            "25974                64.000000                 36.000000   \n",
            "25975                54.000000                 40.000000   \n",
            "25976                62.000000                 50.000000   \n",
            "25977                47.000000                 50.000000   \n",
            "25978                66.000000                 66.000000   \n",
            "\n",
            "       a_chanceCreationShooting  a_defencePressure  a_defenceAggression  \\\n",
            "0                     54.033683          46.519323             49.37355   \n",
            "1                     54.033683          46.519323             49.37355   \n",
            "2                     54.033683          46.519323             49.37355   \n",
            "3                     54.033683          46.519323             49.37355   \n",
            "4                     54.033683          46.519323             49.37355   \n",
            "...                         ...                ...                  ...   \n",
            "25974                 66.000000          47.000000             45.00000   \n",
            "25975                 66.000000          48.000000             53.00000   \n",
            "25976                 53.000000          45.000000             47.00000   \n",
            "25977                 54.000000          47.000000             43.00000   \n",
            "25978                 54.000000          47.000000             58.00000   \n",
            "\n",
            "       a_defenceTeamWidth  outcome  \n",
            "0               52.141617        0  \n",
            "1               52.141617        0  \n",
            "2               52.141617       -1  \n",
            "3               52.141617        1  \n",
            "4               52.141617       -1  \n",
            "...                   ...      ...  \n",
            "25974           53.000000        1  \n",
            "25975           50.000000       -1  \n",
            "25976           54.000000        1  \n",
            "25977           56.000000        0  \n",
            "25978           53.000000        1  \n",
            "\n",
            "[25979 rows x 24 columns]\n"
          ]
        }
      ]
    },
    {
      "cell_type": "markdown",
      "source": [
        "split to train and test and do feature selection"
      ],
      "metadata": {
        "id": "l1n3FHM5YBo-"
      }
    },
    {
      "cell_type": "code",
      "source": [
        "train = matches.loc[matches['season'] != '2015/2016']\n",
        "test = matches.loc[matches['season'] == '2015/2016']\n",
        "train = train.drop('season', axis=1)\n",
        "test = test.drop('season', axis =1)\n",
        "\n",
        "\n",
        "X_train = train.drop('outcome', axis=1)\n",
        "y_train = train['outcome']\n",
        "X_test = test.drop('outcome', axis=1)\n",
        "y_test = test['outcome']\n",
        "linreg = LinearRegression()\n",
        "rfe = RFE(estimator=linreg, n_features_to_select=6)\n",
        "rfe.fit(X_train, y_train)\n",
        "print(X_train.columns[rfe.support_])"
      ],
      "metadata": {
        "colab": {
          "base_uri": "https://localhost:8080/"
        },
        "id": "ISFu1FQIYZLd",
        "outputId": "452b64a5-9706-4783-9734-45d32713de6e"
      },
      "execution_count": null,
      "outputs": [
        {
          "output_type": "stream",
          "name": "stdout",
          "text": [
            "Index(['h_buildUpPlayDribblingClass', 'h_buildUpPlayPassing',\n",
            "       'h_defencePressure', 'a_buildUpPlayDribblingClass',\n",
            "       'a_buildUpPlayPassing', 'a_defencePressure'],\n",
            "      dtype='object')\n"
          ]
        }
      ]
    },
    {
      "cell_type": "markdown",
      "source": [
        "#Test Different Models"
      ],
      "metadata": {
        "id": "JUQ8e-7-iBVw"
      }
    },
    {
      "cell_type": "markdown",
      "source": [
        "##on all features"
      ],
      "metadata": {
        "id": "K44U7JwniFXn"
      }
    },
    {
      "cell_type": "code",
      "source": [
        "models = [KNeighborsClassifier(n_neighbors=5), DecisionTreeClassifier(), RandomForestClassifier(), GradientBoostingClassifier()]\n",
        "class_labels = ['Home', 'Draw', 'Away']\n",
        "\n",
        "for model in models:\n",
        "    # Compute the cross-validation scores\n",
        "    scores = cross_val_score(model, X_train, y_train, cv=5)\n",
        "    # Print the average cross-validation score\n",
        "    print(f\"Average cross-validation score for {type(model).__name__}: {scores.mean():.3f}\")\n",
        "    # Fit the model to the training data\n",
        "    model.fit(X_train, y_train)\n",
        "    # Use the model to make predictions on the test data\n",
        "    y_pred = model.predict(X_test)\n",
        "    # Compute the accuracy and f-measure scores\n",
        "    acc = accuracy_score(y_test, y_pred)\n",
        "    f1 = f1_score(y_test, y_pred, average='macro')\n",
        "    # Print the accuracy and f-measure scores\n",
        "    print(f\"Accuracy score for {type(model).__name__}: {acc:.3f}\")\n",
        "    print(f\"F-measure score for {type(model).__name__}: {f1:.3f}\")\n",
        "    conf_matrix = confusion_matrix(y_test, y_pred)\n",
        "    conf_df = pd.DataFrame(conf_matrix, index=class_labels, columns=class_labels)\n",
        "    print(f\"Confusion matrix for {type(model).__name__}:\")\n",
        "    print(conf_df)\n"
      ],
      "metadata": {
        "colab": {
          "base_uri": "https://localhost:8080/"
        },
        "id": "OyOZHXm2iAkZ",
        "outputId": "9cb4a3f7-6195-4830-f045-b916424e72d9"
      },
      "execution_count": null,
      "outputs": [
        {
          "output_type": "stream",
          "name": "stdout",
          "text": [
            "Average cross-validation score for KNeighborsClassifier: 0.369\n",
            "Accuracy score for KNeighborsClassifier: 0.418\n",
            "F-measure score for KNeighborsClassifier: 0.392\n",
            "Confusion matrix for KNeighborsClassifier:\n",
            "      Home  Draw  Away\n",
            "Home   475   189   348\n",
            "Draw   334   189   332\n",
            "Away   443   289   727\n",
            "Average cross-validation score for DecisionTreeClassifier: 0.357\n",
            "Accuracy score for DecisionTreeClassifier: 0.361\n",
            "F-measure score for DecisionTreeClassifier: 0.345\n",
            "Confusion matrix for DecisionTreeClassifier:\n",
            "      Home  Draw  Away\n",
            "Home   331   272   409\n",
            "Draw   255   226   374\n",
            "Away   394   420   645\n",
            "Average cross-validation score for RandomForestClassifier: 0.425\n",
            "Accuracy score for RandomForestClassifier: 0.454\n",
            "F-measure score for RandomForestClassifier: 0.370\n",
            "Confusion matrix for RandomForestClassifier:\n",
            "      Home  Draw  Away\n",
            "Home   336    81   595\n",
            "Draw   181    84   590\n",
            "Away   236   133  1090\n",
            "Average cross-validation score for GradientBoostingClassifier: 0.447\n",
            "Accuracy score for GradientBoostingClassifier: 0.476\n",
            "F-measure score for GradientBoostingClassifier: 0.331\n",
            "Confusion matrix for GradientBoostingClassifier:\n",
            "      Home  Draw  Away\n",
            "Home   294    11   707\n",
            "Draw   184     7   664\n",
            "Away   169     7  1283\n"
          ]
        }
      ]
    },
    {
      "cell_type": "markdown",
      "source": [
        "## with top 10 features"
      ],
      "metadata": {
        "id": "B1RJT9MRnOsQ"
      }
    },
    {
      "cell_type": "code",
      "source": [
        "train_10 = train[['home_avg', 'h_buildUpPlayDribblingClass', 'h_buildUpPlayPassing',\n",
        "       'h_chanceCreationPassing', 'h_chanceCreationShooting',\n",
        "       'h_defencePressure', 'a_buildUpPlayDribblingClass',\n",
        "       'a_buildUpPlayPassing', 'a_chanceCreationPassing', 'a_defencePressure']]\n",
        "test_10 = train[['home_avg', 'h_buildUpPlayDribblingClass', 'h_buildUpPlayPassing',\n",
        "       'h_chanceCreationPassing', 'h_chanceCreationShooting',\n",
        "       'h_defencePressure', 'a_buildUpPlayDribblingClass',\n",
        "       'a_buildUpPlayPassing', 'a_chanceCreationPassing', 'a_defencePressure']]\n",
        "\n",
        "X_train = train.drop('outcome', axis=1)\n",
        "y_train = train['outcome']\n",
        "X_test = test.drop('outcome', axis=1)\n",
        "y_test = test['outcome']\n",
        "\n",
        "\n",
        "for model in models:\n",
        "    # Compute the cross-validation scores\n",
        "    scores = cross_val_score(model, X_train, y_train, cv=5)\n",
        "    # Print the average cross-validation score\n",
        "    print(f\"Average cross-validation score for {type(model).__name__}: {scores.mean():.3f}\")\n",
        "    # Fit the model to the training data\n",
        "    model.fit(X_train, y_train)\n",
        "    # Use the model to make predictions on the test data\n",
        "    y_pred = model.predict(X_test)\n",
        "    # Compute the accuracy and f-measure scores\n",
        "    acc = accuracy_score(y_test, y_pred)\n",
        "    f1 = f1_score(y_test, y_pred, average='macro')\n",
        "    # Print the accuracy and f-measure scores\n",
        "    print(f\"Accuracy score for {type(model).__name__}: {acc:.3f}\")\n",
        "    print(f\"F-measure score for {type(model).__name__}: {f1:.3f}\")\n",
        "    conf_matrix = confusion_matrix(y_test, y_pred)\n",
        "    conf_df = pd.DataFrame(conf_matrix, index=class_labels, columns=class_labels)\n",
        "    print(f\"Confusion matrix for {type(model).__name__}:\")\n",
        "    print(conf_df)"
      ],
      "metadata": {
        "colab": {
          "base_uri": "https://localhost:8080/"
        },
        "id": "ApeNuPfYnWYW",
        "outputId": "f107a299-b27d-4d6c-cdf4-84d29482fbee"
      },
      "execution_count": null,
      "outputs": [
        {
          "output_type": "stream",
          "name": "stdout",
          "text": [
            "Average cross-validation score for KNeighborsClassifier: 0.369\n",
            "Accuracy score for KNeighborsClassifier: 0.418\n",
            "F-measure score for KNeighborsClassifier: 0.392\n",
            "Confusion matrix for KNeighborsClassifier:\n",
            "      Home  Draw  Away\n",
            "Home   475   189   348\n",
            "Draw   334   189   332\n",
            "Away   443   289   727\n",
            "Average cross-validation score for DecisionTreeClassifier: 0.357\n",
            "Accuracy score for DecisionTreeClassifier: 0.361\n",
            "F-measure score for DecisionTreeClassifier: 0.346\n",
            "Confusion matrix for DecisionTreeClassifier:\n",
            "      Home  Draw  Away\n",
            "Home   318   276   418\n",
            "Draw   244   243   368\n",
            "Away   391   428   640\n",
            "Average cross-validation score for RandomForestClassifier: 0.419\n",
            "Accuracy score for RandomForestClassifier: 0.446\n",
            "F-measure score for RandomForestClassifier: 0.358\n",
            "Confusion matrix for RandomForestClassifier:\n",
            "      Home  Draw  Away\n",
            "Home   317    79   616\n",
            "Draw   214    77   564\n",
            "Away   243   126  1090\n",
            "Average cross-validation score for GradientBoostingClassifier: 0.447\n",
            "Accuracy score for GradientBoostingClassifier: 0.476\n",
            "F-measure score for GradientBoostingClassifier: 0.331\n",
            "Confusion matrix for GradientBoostingClassifier:\n",
            "      Home  Draw  Away\n",
            "Home   294    11   707\n",
            "Draw   184     7   664\n",
            "Away   169     7  1283\n"
          ]
        }
      ]
    },
    {
      "cell_type": "markdown",
      "source": [
        "##With top 6 features"
      ],
      "metadata": {
        "id": "khnDTXknnWtu"
      }
    },
    {
      "cell_type": "code",
      "source": [
        "train_6 = train[['h_buildUpPlayDribblingClass', 'h_buildUpPlayPassing',\n",
        "       'h_defencePressure', 'a_buildUpPlayDribblingClass',\n",
        "       'a_buildUpPlayPassing', 'a_defencePressure']]\n",
        "test_6 = test[['h_buildUpPlayDribblingClass', 'h_buildUpPlayPassing',\n",
        "       'h_defencePressure', 'a_buildUpPlayDribblingClass',\n",
        "       'a_buildUpPlayPassing', 'a_defencePressure']]\n",
        "\n",
        "X_train = train.drop('outcome', axis=1)\n",
        "y_train = train['outcome']\n",
        "X_test = test.drop('outcome', axis=1)\n",
        "y_test = test['outcome']\n",
        "\n",
        "\n",
        "for model in models:\n",
        "    # Compute the cross-validation scores\n",
        "    scores = cross_val_score(model, X_train, y_train, cv=5)\n",
        "    # Print the average cross-validation score\n",
        "    print(f\"Average cross-validation score for {type(model).__name__}: {scores.mean():.3f}\")\n",
        "    # Fit the model to the training data\n",
        "    model.fit(X_train, y_train)\n",
        "    # Use the model to make predictions on the test data\n",
        "    y_pred = model.predict(X_test)\n",
        "    # Compute the accuracy and f-measure scores\n",
        "    acc = accuracy_score(y_test, y_pred)\n",
        "    f1 = f1_score(y_test, y_pred, average='macro')\n",
        "    # Print the accuracy and f-measure scores\n",
        "    print(f\"Accuracy score for {type(model).__name__}: {acc:.3f}\")\n",
        "    print(f\"F-measure score for {type(model).__name__}: {f1:.3f}\")\n",
        "    conf_matrix = confusion_matrix(y_test, y_pred)\n",
        "    conf_df = pd.DataFrame(conf_matrix, index=class_labels, columns=class_labels)\n",
        "    print(f\"Confusion matrix for {type(model).__name__}:\")\n",
        "    print(conf_df)"
      ],
      "metadata": {
        "colab": {
          "base_uri": "https://localhost:8080/"
        },
        "id": "1VXVmdRTnZod",
        "outputId": "1c3d27de-04a7-4bbc-9c84-5a60619630e3"
      },
      "execution_count": null,
      "outputs": [
        {
          "output_type": "stream",
          "name": "stdout",
          "text": [
            "Average cross-validation score for KNeighborsClassifier: 0.369\n",
            "Accuracy score for KNeighborsClassifier: 0.418\n",
            "F-measure score for KNeighborsClassifier: 0.392\n",
            "Confusion matrix for KNeighborsClassifier:\n",
            "      Home  Draw  Away\n",
            "Home   475   189   348\n",
            "Draw   334   189   332\n",
            "Away   443   289   727\n",
            "Average cross-validation score for DecisionTreeClassifier: 0.354\n",
            "Accuracy score for DecisionTreeClassifier: 0.359\n",
            "F-measure score for DecisionTreeClassifier: 0.339\n",
            "Confusion matrix for DecisionTreeClassifier:\n",
            "      Home  Draw  Away\n",
            "Home   312   287   413\n",
            "Draw   259   216   380\n",
            "Away   388   405   666\n",
            "Average cross-validation score for RandomForestClassifier: 0.422\n",
            "Accuracy score for RandomForestClassifier: 0.457\n",
            "F-measure score for RandomForestClassifier: 0.370\n",
            "Confusion matrix for RandomForestClassifier:\n",
            "      Home  Draw  Away\n",
            "Home   335    84   593\n",
            "Draw   197    79   579\n",
            "Away   209   144  1106\n",
            "Average cross-validation score for GradientBoostingClassifier: 0.447\n",
            "Accuracy score for GradientBoostingClassifier: 0.476\n",
            "F-measure score for GradientBoostingClassifier: 0.331\n",
            "Confusion matrix for GradientBoostingClassifier:\n",
            "      Home  Draw  Away\n",
            "Home   294    11   707\n",
            "Draw   184     7   664\n",
            "Away   169     7  1283\n"
          ]
        }
      ]
    }
  ]
}